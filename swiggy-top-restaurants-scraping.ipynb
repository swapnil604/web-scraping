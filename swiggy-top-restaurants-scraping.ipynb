{
 "cells": [
  {
   "cell_type": "markdown",
   "id": "cdecc664",
   "metadata": {},
   "source": [
    "## Web scraping - In this project, we are going to get details of top restaurants in Pune from swiggy website"
   ]
  },
  {
   "cell_type": "markdown",
   "id": "83464e2d",
   "metadata": {},
   "source": [
    "### Installing the necessary requirements (ignore if already installed)"
   ]
  },
  {
   "cell_type": "code",
   "execution_count": 125,
   "id": "e8aa9a1c",
   "metadata": {},
   "outputs": [],
   "source": [
    "!pip install requests --upgrade --quiet\n",
    "!pip install bs4 --upgrade --quiet\n",
    "!pip install html5lib --upgrade --quiet"
   ]
  },
  {
   "cell_type": "markdown",
   "id": "e4bedcf4",
   "metadata": {},
   "source": [
    "### creating excel sheet"
   ]
  },
  {
   "cell_type": "code",
   "execution_count": 126,
   "id": "baf1b581",
   "metadata": {},
   "outputs": [],
   "source": [
    "import openpyxl"
   ]
  },
  {
   "cell_type": "code",
   "execution_count": 127,
   "id": "ffa4201e",
   "metadata": {},
   "outputs": [],
   "source": [
    "excel = openpyxl.Workbook()\n",
    "sheet = excel.active\n",
    "sheet.title = 'Best restaurants in Pune'\n",
    "sheet.append(['Srno','Restaurant','Cuisine','Rating'])"
   ]
  },
  {
   "cell_type": "markdown",
   "id": "b4bdf71f",
   "metadata": {},
   "source": [
    "### Importing lib"
   ]
  },
  {
   "cell_type": "code",
   "execution_count": 128,
   "id": "a8339392",
   "metadata": {},
   "outputs": [],
   "source": [
    "from bs4 import BeautifulSoup\n",
    "import requests"
   ]
  },
  {
   "cell_type": "markdown",
   "id": "83edb087",
   "metadata": {},
   "source": [
    "### Getting the html"
   ]
  },
  {
   "cell_type": "code",
   "execution_count": 129,
   "id": "d0a278a5",
   "metadata": {
    "scrolled": true
   },
   "outputs": [],
   "source": [
    "url = \"https://www.swiggy.com/city/pune/top-rated-collection\"\n",
    "r = requests.get(url)"
   ]
  },
  {
   "cell_type": "markdown",
   "id": "358f2552",
   "metadata": {},
   "source": [
    "### Parsing the HTML"
   ]
  },
  {
   "cell_type": "code",
   "execution_count": 130,
   "id": "3da3fc0d",
   "metadata": {},
   "outputs": [],
   "source": [
    "soup = BeautifulSoup(r.text, 'html.parser') #parsing the doc to make it in a readable format"
   ]
  },
  {
   "cell_type": "markdown",
   "id": "7f1f5c3d",
   "metadata": {},
   "source": [
    "### Getting the relevant tags"
   ]
  },
  {
   "cell_type": "code",
   "execution_count": 135,
   "id": "ce42c01d",
   "metadata": {
    "scrolled": true
   },
   "outputs": [],
   "source": [
    "mainDiv = soup.find('div', class_= \"_129-b\").find_all('div', class_=\"MZy1T\")\n",
    "count = 0\n",
    "for x in mainDiv:\n",
    "    for y in x:\n",
    "        count = count + 1\n",
    "        name = y.find('div', class_=\"nA6kb\").text\n",
    "        category = y.find('div', class_=\"_1gURR\").text\n",
    "        rating = y.find('div', class_=\"_9uwBC wY0my\").find_all('span')[1].text\n",
    "        sheet.append([count, name, category, rating])\n",
    "        # print(count, name, category, rating)"
   ]
  },
  {
   "cell_type": "code",
   "execution_count": 133,
   "id": "95c67f2d",
   "metadata": {},
   "outputs": [],
   "source": [
    "excel.save('Best Restaurants in Pune.xlsx') #saving the excel file"
   ]
  }
 ],
 "metadata": {
  "kernelspec": {
   "display_name": "Python 3 (ipykernel)",
   "language": "python",
   "name": "python3"
  },
  "language_info": {
   "codemirror_mode": {
    "name": "ipython",
    "version": 3
   },
   "file_extension": ".py",
   "mimetype": "text/x-python",
   "name": "python",
   "nbconvert_exporter": "python",
   "pygments_lexer": "ipython3",
   "version": "3.9.7"
  }
 },
 "nbformat": 4,
 "nbformat_minor": 5
}
